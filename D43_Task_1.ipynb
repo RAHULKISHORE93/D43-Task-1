{
  "nbformat": 4,
  "nbformat_minor": 0,
  "metadata": {
    "colab": {
      "provenance": [],
      "collapsed_sections": [],
      "include_colab_link": true
    },
    "kernelspec": {
      "name": "python3",
      "display_name": "Python 3"
    },
    "language_info": {
      "name": "python"
    }
  },
  "cells": [
    {
      "cell_type": "markdown",
      "metadata": {
        "id": "view-in-github",
        "colab_type": "text"
      },
      "source": [
        "<a href=\"https://colab.research.google.com/github/RAHULKISHORE93/D43-Task-1/blob/main/D43_Task_1.ipynb\" target=\"_parent\"><img src=\"https://colab.research.google.com/assets/colab-badge.svg\" alt=\"Open In Colab\"/></a>"
      ]
    },
    {
      "cell_type": "markdown",
      "source": [
        "## User reg and login"
      ],
      "metadata": {
        "id": "bK6o_DlSamI1"
      }
    },
    {
      "cell_type": "code",
      "source": [
        "import re"
      ],
      "metadata": {
        "id": "e9C1_vnZhDms"
      },
      "execution_count": null,
      "outputs": []
    },
    {
      "cell_type": "code",
      "source": [
        "def register(flag=True,flag2=True):\n",
        "    username = str(input(\"Enter the username/email address\"))\n",
        "    pat = \"^[a-zA-Z0-9-_]+@[a-zA-Z0-9]+\\.[a-z]{1,3}$\"\n",
        "    \n",
        "    while flag:\n",
        "        if re.match(pat,username):\n",
        "           flag=False\n",
        "        else:\n",
        "           print(\"Username not valid\")\n",
        "           username = str(input(\"Enter a valid username/email address\"))\n",
        "    password = str(input(\"Enter the password: \"))\n",
        "    result = re.fullmatch(r'[A-Za-z0-9@#$%^&+=]{5,16}', password)\n",
        "\n",
        "    while flag2:\n",
        "      if re.fullmatch(r'[A-Za-z0-9@#$%^&+=]{5,16}', password):\n",
        "         flag2=False\n",
        "         with open('Userinfo.txt','a+') as f:\n",
        "            print(username.casefold()+\"\\t\"+password,file=f)\n",
        "      else:\n",
        "         print(\"Password not valid\")\n",
        "         password = str(input(\"Enter the valid password: \"))\n",
        "    print(\"Registered Successfully\")"
      ],
      "metadata": {
        "id": "Zp1gne8lXSM8"
      },
      "execution_count": null,
      "outputs": []
    },
    {
      "cell_type": "code",
      "source": [
        "def login():\n",
        "    new_login = str(input(\"Enter the username/email address to login\")).casefold()\n",
        "    user_info={}\n",
        "    with open('Userinfo.txt','r') as f:\n",
        "      for line in f:\n",
        "          username,password = line.strip().split(\"\\t\")\n",
        "          user_info[username]=password\n",
        "    if new_login.casefold() not in user_info.keys():\n",
        "       print(\"Login credentials does not exist. Please register if you're a new user\")\n",
        "       register()\n",
        "    else:\n",
        "       user_pw = str(input(\"Enter your password\"))\n",
        "       if user_pw == user_info[new_login]:\n",
        "          print(\"Login successful\")\n",
        "       else:\n",
        "          print(\"Password is incorrect\")\n",
        "          new_choice=int(input(\"Enter 1 if you forgot password\"))\n",
        "          if new_choice==1:\n",
        "             print(f\"Your password is {user_info[new_login]}\")\n",
        "             change_pw = int(input(\"Enter 1 to change the password, enter 0 to exit\"))\n",
        "             while change_pw!=0:\n",
        "                if change_pw==1:\n",
        "                   new_pw = str(input(\"Enter the new password: \"))\n",
        "                   result = re.fullmatch(r'[A-Za-z0-9@#$%^&+=]{5,16}', new_pw)\n",
        "                   flag3=True\n",
        "                   while flag3:\n",
        "                     if result:\n",
        "                       flag3=False\n",
        "                       user_info[username]=new_pw\n",
        "                       with open('Userinfo.txt','a') as f:\n",
        "                          print(username+\"\\t\"+new_pw+\"\\n\",file=f)\n",
        "                       change_pw=0\n",
        "                     else:\n",
        "                       print(\"Password not valid\")\n",
        "                       password = str(input(\"Enter the valid password: \"))\n",
        "                else:\n",
        "                   change_pw = int(input(\"Enter 1 to change the password, enter 0 to exit\"))"
      ],
      "metadata": {
        "id": "Y9yC7WeLaYse"
      },
      "execution_count": null,
      "outputs": []
    },
    {
      "cell_type": "code",
      "source": [
        "print(\"***********User Registration and Login system**************\")\n",
        "\n",
        "print(\"Enter your choice\")\n",
        "print(\"Enter 1 for registering\")\n",
        "print(\"Enter 2 for login\")\n",
        "print(\"Enter 0 to exit\")\n",
        "\n",
        "choice = int(input())\n",
        "\n",
        "while choice!=0:\n",
        "  if choice==1:\n",
        "     register()\n",
        "     choice=0\n",
        "\n",
        "  elif choice==2:\n",
        "     login()\n",
        "     choice=0\n",
        "  \n",
        "  else:\n",
        "     print(\"Invalid choice\")\n",
        "     print(\"Enter your choice\")\n",
        "     print(\"Enter 1 for registering\")\n",
        "     print(\"Enter 2 for login\")  "
      ],
      "metadata": {
        "id": "cfYVJfmI5CZZ",
        "colab": {
          "base_uri": "https://localhost:8080/"
        },
        "outputId": "0203cc7c-5a4f-4ec6-ea16-aa3fd38a1a05"
      },
      "execution_count": null,
      "outputs": [
        {
          "output_type": "stream",
          "name": "stdout",
          "text": [
            "***********User Registration and Login system**************\n",
            "Enter your choice\n",
            "Enter 1 for registering\n",
            "Enter 2 for login\n",
            "Enter 0 to exit\n",
            "1\n",
            "Enter the username/email addressrahulkishor1993@gmail.com\n",
            "Enter the password: Rajeev@123\n",
            "Registered Successfully\n"
          ]
        }
      ]
    },
    {
      "cell_type": "code",
      "source": [],
      "metadata": {
        "id": "78c8khfYv19g"
      },
      "execution_count": null,
      "outputs": []
    }
  ]
}